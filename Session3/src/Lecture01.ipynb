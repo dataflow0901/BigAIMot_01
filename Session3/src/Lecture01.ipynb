{
 "cells": [
  {
   "cell_type": "markdown",
   "metadata": {},
   "source": [
    "# Lecture 01. Introduction to Machine Learning\n",
    "\n",
    "***\n",
    "\n",
    "> 이 장에서는 머신러닝(Machine Learning *이하 ML*)에 대해 간략하게 개념을 세우고 지도학습과 비지도학습이라는 가장 핵심적인 내용을 다루도록 하겠습니다.\n",
    "\n",
    "\n",
    "[목 차]\n",
    "\n",
    "1. 활용사례\n",
    "\n",
    "    - 챌린저호 사고\n",
    "\n",
    "2. ML의 정의\n",
    "\n",
    "3. ML의 종류\n",
    "\n",
    "\n",
    "\n",
    "## 1. 활용사례\n",
    "\n",
    "> ML이 무엇인지를 알기전에 대체 몇가지 활용사례를 통해서 어디에 사용되는 것인지를 알아보겠습니다.\n",
    "\n",
    " \n",
    " 1. 챌린저호 사고\n",
    "    \n",
    "   - 최근에 개봉한 영화 '퍼스트 맨'은 1969년 아폴로 11호를 타고 달에 첫 발을 내딛은 최초의 인간 '닐 암스트롱' 일대기를 다루고 있습니다. 영화를 보셨거나 아폴로 계획에 대해서 관심이 많으신 분들은 잘 아시겠지만, 아폴로 11호가 성공하기 이전의 사고로 인해 많은 인명피해 및 예산을 감당해야만 했던 아픔이 있었습니다. 그런데 이러한 우주항공 사고는 시간이 많이 흘러서 기술의 발전이 있음에도 불구하고 뜻 밖의 원인(어떻게 보면 사소한)으로 인해서 일어났었습니다. \n",
    "   \n",
    "   - 바로 1986년 1월 28일 미국 플로리다주의 케네디우주센터에서 발사후 70초만에 공중폭발한 챌린저호에 대한 원인규명에 대한 이야기 입니다.\n",
    "   \n",
    "   - 당시의 사고현장을 동영상으로 보겠습니다. (출처 [유투브](https://www.youtube.com/watch?v=j4JOjcDFtBE&feature=youtu.be))\n",
    "\n",
    "   - 결론부터 말씀드리면 위 사고의 결정적인 원인은 저온에서 O-ring의 탄성력이 저하되어서 고체추진로켓의 여소가스가 누출된 것 입니다.\n",
    "      \n",
    "      ![pic1](http://choo.ischool.utoronto.ca/FIS/courses/lis2149/challenger.gif)\n",
    "   \n",
    "      ![pic2](http://scienceon.hani.co.kr/files/attach/images/73/879/090/00c12.jpg)\n",
    "   \n",
    "      ![pic3](http://scienceon.hani.co.kr/files/attach/images/73/879/090/00c6.jpg)\n",
    "       \n",
    "    - 물리학자 파인만의 O-ring 모의실험\n",
    "        - 얼음물에 담근 후의 O-ring이 탄성력을 잃고 원래 모양으로 돌아오지 못하는 것을 보여줍니다.(출처 [유투브](https://youtu.be/6Rwcbsn19c0))\n",
    "    \n",
    "    - 당시에 목격된 이상징후\n",
    "   \n",
    "       ![pic4](http://scienceon.hani.co.kr/files/attach/images/73/879/090/00c77.jpg)\n",
    "      \n",
    "    - 아이러니 하게도 NASA에서는 온도에 따른 O-ring의 손상도에 대한 실험 데이터를 가지고 있었다고 합니다."
   ]
  },
  {
   "cell_type": "code",
   "execution_count": 2,
   "metadata": {},
   "outputs": [
    {
     "data": {
      "text/html": [
       "<div>\n",
       "<style scoped>\n",
       "    .dataframe tbody tr th:only-of-type {\n",
       "        vertical-align: middle;\n",
       "    }\n",
       "\n",
       "    .dataframe tbody tr th {\n",
       "        vertical-align: top;\n",
       "    }\n",
       "\n",
       "    .dataframe thead th {\n",
       "        text-align: right;\n",
       "    }\n",
       "</style>\n",
       "<table border=\"1\" class=\"dataframe\">\n",
       "  <thead>\n",
       "    <tr style=\"text-align: right;\">\n",
       "      <th></th>\n",
       "      <th>o_ring_ct</th>\n",
       "      <th>distress_ct</th>\n",
       "      <th>temperature</th>\n",
       "      <th>pressure</th>\n",
       "      <th>launch_id</th>\n",
       "    </tr>\n",
       "  </thead>\n",
       "  <tbody>\n",
       "    <tr>\n",
       "      <th>0</th>\n",
       "      <td>6</td>\n",
       "      <td>0</td>\n",
       "      <td>66</td>\n",
       "      <td>50</td>\n",
       "      <td>1</td>\n",
       "    </tr>\n",
       "    <tr>\n",
       "      <th>1</th>\n",
       "      <td>6</td>\n",
       "      <td>1</td>\n",
       "      <td>70</td>\n",
       "      <td>50</td>\n",
       "      <td>2</td>\n",
       "    </tr>\n",
       "    <tr>\n",
       "      <th>2</th>\n",
       "      <td>6</td>\n",
       "      <td>0</td>\n",
       "      <td>69</td>\n",
       "      <td>50</td>\n",
       "      <td>3</td>\n",
       "    </tr>\n",
       "    <tr>\n",
       "      <th>3</th>\n",
       "      <td>6</td>\n",
       "      <td>0</td>\n",
       "      <td>68</td>\n",
       "      <td>50</td>\n",
       "      <td>4</td>\n",
       "    </tr>\n",
       "    <tr>\n",
       "      <th>4</th>\n",
       "      <td>6</td>\n",
       "      <td>0</td>\n",
       "      <td>67</td>\n",
       "      <td>50</td>\n",
       "      <td>5</td>\n",
       "    </tr>\n",
       "    <tr>\n",
       "      <th>5</th>\n",
       "      <td>6</td>\n",
       "      <td>0</td>\n",
       "      <td>72</td>\n",
       "      <td>50</td>\n",
       "      <td>6</td>\n",
       "    </tr>\n",
       "    <tr>\n",
       "      <th>6</th>\n",
       "      <td>6</td>\n",
       "      <td>0</td>\n",
       "      <td>73</td>\n",
       "      <td>100</td>\n",
       "      <td>7</td>\n",
       "    </tr>\n",
       "    <tr>\n",
       "      <th>7</th>\n",
       "      <td>6</td>\n",
       "      <td>0</td>\n",
       "      <td>70</td>\n",
       "      <td>100</td>\n",
       "      <td>8</td>\n",
       "    </tr>\n",
       "    <tr>\n",
       "      <th>8</th>\n",
       "      <td>6</td>\n",
       "      <td>1</td>\n",
       "      <td>57</td>\n",
       "      <td>200</td>\n",
       "      <td>9</td>\n",
       "    </tr>\n",
       "    <tr>\n",
       "      <th>9</th>\n",
       "      <td>6</td>\n",
       "      <td>1</td>\n",
       "      <td>63</td>\n",
       "      <td>200</td>\n",
       "      <td>10</td>\n",
       "    </tr>\n",
       "    <tr>\n",
       "      <th>10</th>\n",
       "      <td>6</td>\n",
       "      <td>1</td>\n",
       "      <td>70</td>\n",
       "      <td>200</td>\n",
       "      <td>11</td>\n",
       "    </tr>\n",
       "    <tr>\n",
       "      <th>11</th>\n",
       "      <td>6</td>\n",
       "      <td>0</td>\n",
       "      <td>78</td>\n",
       "      <td>200</td>\n",
       "      <td>12</td>\n",
       "    </tr>\n",
       "    <tr>\n",
       "      <th>12</th>\n",
       "      <td>6</td>\n",
       "      <td>0</td>\n",
       "      <td>67</td>\n",
       "      <td>200</td>\n",
       "      <td>13</td>\n",
       "    </tr>\n",
       "    <tr>\n",
       "      <th>13</th>\n",
       "      <td>6</td>\n",
       "      <td>2</td>\n",
       "      <td>53</td>\n",
       "      <td>200</td>\n",
       "      <td>14</td>\n",
       "    </tr>\n",
       "    <tr>\n",
       "      <th>14</th>\n",
       "      <td>6</td>\n",
       "      <td>0</td>\n",
       "      <td>67</td>\n",
       "      <td>200</td>\n",
       "      <td>15</td>\n",
       "    </tr>\n",
       "    <tr>\n",
       "      <th>15</th>\n",
       "      <td>6</td>\n",
       "      <td>0</td>\n",
       "      <td>75</td>\n",
       "      <td>200</td>\n",
       "      <td>16</td>\n",
       "    </tr>\n",
       "    <tr>\n",
       "      <th>16</th>\n",
       "      <td>6</td>\n",
       "      <td>0</td>\n",
       "      <td>70</td>\n",
       "      <td>200</td>\n",
       "      <td>17</td>\n",
       "    </tr>\n",
       "    <tr>\n",
       "      <th>17</th>\n",
       "      <td>6</td>\n",
       "      <td>0</td>\n",
       "      <td>81</td>\n",
       "      <td>200</td>\n",
       "      <td>18</td>\n",
       "    </tr>\n",
       "    <tr>\n",
       "      <th>18</th>\n",
       "      <td>6</td>\n",
       "      <td>0</td>\n",
       "      <td>76</td>\n",
       "      <td>200</td>\n",
       "      <td>19</td>\n",
       "    </tr>\n",
       "    <tr>\n",
       "      <th>19</th>\n",
       "      <td>6</td>\n",
       "      <td>0</td>\n",
       "      <td>79</td>\n",
       "      <td>200</td>\n",
       "      <td>20</td>\n",
       "    </tr>\n",
       "    <tr>\n",
       "      <th>20</th>\n",
       "      <td>6</td>\n",
       "      <td>0</td>\n",
       "      <td>75</td>\n",
       "      <td>200</td>\n",
       "      <td>21</td>\n",
       "    </tr>\n",
       "    <tr>\n",
       "      <th>21</th>\n",
       "      <td>6</td>\n",
       "      <td>0</td>\n",
       "      <td>76</td>\n",
       "      <td>200</td>\n",
       "      <td>22</td>\n",
       "    </tr>\n",
       "    <tr>\n",
       "      <th>22</th>\n",
       "      <td>6</td>\n",
       "      <td>1</td>\n",
       "      <td>58</td>\n",
       "      <td>200</td>\n",
       "      <td>23</td>\n",
       "    </tr>\n",
       "  </tbody>\n",
       "</table>\n",
       "</div>"
      ],
      "text/plain": [
       "    o_ring_ct  distress_ct  temperature  pressure  launch_id\n",
       "0           6            0           66        50          1\n",
       "1           6            1           70        50          2\n",
       "2           6            0           69        50          3\n",
       "3           6            0           68        50          4\n",
       "4           6            0           67        50          5\n",
       "5           6            0           72        50          6\n",
       "6           6            0           73       100          7\n",
       "7           6            0           70       100          8\n",
       "8           6            1           57       200          9\n",
       "9           6            1           63       200         10\n",
       "10          6            1           70       200         11\n",
       "11          6            0           78       200         12\n",
       "12          6            0           67       200         13\n",
       "13          6            2           53       200         14\n",
       "14          6            0           67       200         15\n",
       "15          6            0           75       200         16\n",
       "16          6            0           70       200         17\n",
       "17          6            0           81       200         18\n",
       "18          6            0           76       200         19\n",
       "19          6            0           79       200         20\n",
       "20          6            0           75       200         21\n",
       "21          6            0           76       200         22\n",
       "22          6            1           58       200         23"
      ]
     },
     "execution_count": 2,
     "metadata": {},
     "output_type": "execute_result"
    }
   ],
   "source": [
    "# O-ring 테스트한 데이터 \n",
    "import pandas as pd\n",
    "o_ring_test = pd.read_csv('/Users/hbk/github/BigAlMot_01/Session3/input_data/challenger.csv')\n",
    "o_ring_test"
   ]
  },
  {
   "cell_type": "markdown",
   "metadata": {},
   "source": [
    "- 데이터 설명\n",
    "    - o_ring_ct : 당시 사용된 O-ring 규격\n",
    "    - distress_ct : 손상정도\n",
    "    - temperature : 온도(화씨)\n",
    "    - pressure : 압력\n",
    "    - launch_id : 인덱스\n",
    "\n",
    "\n",
    "- 주요 데이터(사고원인 규명에 불필요한 컬럼을 제외하고 남은 것)\n",
    "    - temperature\n",
    "    - distress_ct\n",
    "    \n",
    "    \n",
    "- 위 두 컬럼간의 관계를 그래프로 그려보자"
   ]
  },
  {
   "cell_type": "code",
   "execution_count": 3,
   "metadata": {},
   "outputs": [
    {
     "data": {
      "text/plain": [
       "<matplotlib.collections.PathCollection at 0x10aee8550>"
      ]
     },
     "execution_count": 3,
     "metadata": {},
     "output_type": "execute_result"
    },
    {
     "data": {
      "image/png": "[encoded data removed]",
      "text/plain": [
       "<matplotlib.figure.Figure at 0x10ae42ba8>"
      ]
     },
     "metadata": {},
     "output_type": "display_data"
    }
   ],
   "source": [
    "import matplotlib.pyplot as plt\n",
    "#o_ring_test.iloc[:,2] temperature\n",
    "#o_ring_test.iloc[:,1] distress_ct\n",
    "plt.scatter(o_ring_test.iloc[:,2],o_ring_test.iloc[:,1])"
   ]
  },
  {
   "cell_type": "markdown",
   "metadata": {},
   "source": [
    "- 위 그래프를 보면 온도가 53화씨(약 11도)에서 손상도가 가장 높은 것을 알수 있다. 얼음물에 담겼다 나온 O-ring이 원상태로 잘 돌아오지 못했던 파인만의 실험과 일치되는 결과를 보여준다.\n",
    "\n",
    "\n",
    "- 그렇지만 70화씨(약 21도)에서도 손상이 발생을 했었다.(오잉?)\n",
    "    - 그렇다면 위의 실험결과(그래프)는 온도와 손상도간의 관련도가 있다는 것일까? 없다는 것일까?\n",
    "    \n",
    "    \n",
    "- 챌린저호 발사당시의 온도가 영하 2~3도 였다고 한다.(충격과 공포)\n",
    "    - 그때 O-ring의 손상도는 어느정도 였을까?\n",
    "    \n",
    "    \n",
    "- ML이 이러한 질문에 대한 해답을 제시한 것이다."
   ]
  },
  {
   "cell_type": "markdown",
   "metadata": {},
   "source": [
    "## 2. ML의 정의\n",
    "> 앞선 활용사례를 통해서 ML에 대한 대략적인 감을 느껴보았다면, 학문적 또는 공식적으로 ML을 이야기 할 때 어떻게 ~~어렵게~~ 설명하는지 알고 넘어 가겠습니다.\n",
    "\n",
    "- \"명시적인 프로그래밍 없이 컴퓨터가 학습하는 능력을 갖추게 하는 연구분야\" - 아서 사무엘\n",
    "    - 명시적인 프로그래밍이란 기존의 프로그래밍 방법으로 각 상황별 조건에 대한 프로그래밍을 인간이 일일이 해줘야 했던 것\n",
    "        \n",
    "        \n",
    "- \"어떤 작업 T에 대한 컴퓨터 프로그래밍의 성능을  P로 측정했을 때 경험 E로 인해 성능이 향상됐다면, 이 컴퓨터 프로그램은 작업 T와 성능 측정 P에 대해 경헙 E로 학습한 것이다\" - 톰 미첼\n",
    "    - E : 우리가 알기쉬운 의미로는 데이터\n",
    "    - 데이터를 통해서 명시적인 프로그래밍 없이도 좋은 성과를 낼 수 있으며, 유지보수가 간편해지는 장점이 있게 되었다."
   ]
  },
  {
   "cell_type": "markdown",
   "metadata": {},
   "source": [
    "## 3. ML의 종류\n",
    "> ML은 해결하려는 문제에 따라 어떻게 학습을 하느냐가 정해져서 크게 2가지 종류로 구분될 수 있다.\n",
    "\n",
    "- 지도학습(supervised learning)\n",
    "    - 주어진 데이터와 레이블(정답)을 이용하여 미지의 상태나 값을 예측하는 학습방법"
   ]
  },
  {
   "cell_type": "code",
   "execution_count": 7,
   "metadata": {},
   "outputs": [
    {
     "data": {
      "image/png": "[encoded data removed]",
      "text/plain": [
       "<IPython.core.display.Image object>"
      ]
     },
     "execution_count": 7,
     "metadata": {},
     "output_type": "execute_result"
    }
   ],
   "source": [
    "from IPython.display import Image\n",
    "Image(filename='/Users/hbk/github/BigAlMot_01/Session3/img/supervised.png')"
   ]
  },
  {
   "cell_type": "markdown",
   "metadata": {},
   "source": [
    "- 회귀 : 연속되는 숫자를 예측하는 방법(서비스 활용 : 키와 몸무게, 기온예측 등)\n",
    "- 분류 : 입력된 데이터를 주어진 레이블에 따라 구분하는 것(서비스 활용 : 양성/음성 여부 판별, 동물 종 분류 등)\n",
    "- 랭킹/추천 : 각 입력된 데이터의 순위를 예측(서비스 활용 : 온라인광고배너, Youtube, Netflix 등)"
   ]
  },
  {
   "cell_type": "markdown",
   "metadata": {},
   "source": [
    "- 비지도학습(unsupervised learning)\n",
    "    - 컴퓨터가 데이터간 유사도를 기준으로 직접 모델링하는 기법"
   ]
  },
  {
   "cell_type": "code",
   "execution_count": 8,
   "metadata": {},
   "outputs": [
    {
     "data": {
      "image/png": "[encoded data removed]",
      "text/plain": [
       "<IPython.core.display.Image object>"
      ]
     },
     "execution_count": 8,
     "metadata": {},
     "output_type": "execute_result"
    }
   ],
   "source": [
    "from IPython.display import Image\n",
    "Image(filename='/Users/hbk/github/BigAlMot_01/Session3/img/unsupervised.png')"
   ]
  },
  {
   "cell_type": "markdown",
   "metadata": {},
   "source": [
    "- 군집화 : 비슷한 데이터끼리 그룹을 짓는 방식\n",
    "- 토픽 모델링 : 군집화와 유사, 텍스트 데이터에 대해 사용(관련 정도를 확률로 표현함)\n",
    "- 밀도추정 : 관측한 데이터로부터 데이터를 생성한 원래의 분포를 추측하는 방법\n",
    "- 차원축소 : 데이터가 복잡해서 시각화하기 어려울 때 단순한 형태로 변형하되 주요패턴은 보존하는 방식"
   ]
  }
 ],
 "metadata": {
  "kernelspec": {
   "display_name": "Python 3",
   "language": "python",
   "name": "python3"
  },
  "language_info": {
   "codemirror_mode": {
    "name": "ipython",
    "version": 3
   },
   "file_extension": ".py",
   "mimetype": "text/x-python",
   "name": "python",
   "nbconvert_exporter": "python",
   "pygments_lexer": "ipython3",
   "version": "3.6.4"
  }
 },
 "nbformat": 4,
 "nbformat_minor": 2
}
